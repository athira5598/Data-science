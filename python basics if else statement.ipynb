{
 "cells": [
  {
   "cell_type": "code",
   "execution_count": 1,
   "metadata": {},
   "outputs": [],
   "source": [
    "#if else statement"
   ]
  },
  {
   "cell_type": "code",
   "execution_count": 2,
   "metadata": {},
   "outputs": [
    {
     "name": "stdout",
     "output_type": "stream",
     "text": [
      "length size\n",
      "12\n",
      "height size\n",
      "12\n",
      "It is square\n"
     ]
    }
   ],
   "source": [
    "# checking is it square or not\n",
    "b= input('length size\\n')\n",
    "h=input('height size\\n')\n",
    "if b==h:\n",
    "    print(\"It is square\")\n",
    "else:\n",
    "    print('No,it is rectangle')\n"
   ]
  },
  {
   "cell_type": "code",
   "execution_count": 3,
   "metadata": {},
   "outputs": [
    {
     "name": "stdout",
     "output_type": "stream",
     "text": [
      "enter first value\n",
      "12\n",
      "enter second value \n",
      "34\n",
      "second one is the greatest value\n"
     ]
    }
   ],
   "source": [
    "# checking which value is the greatest\n",
    "a=int(input('enter first value\\n'))\n",
    "b=int(input('enter second value \\n'))\n",
    "if a>b:\n",
    "    print('first one is the greatest value')\n",
    "elif b>a:\n",
    "    print('second one is the greatest value')\n",
    "else:\n",
    "    print('Both are equal')"
   ]
  },
  {
   "cell_type": "code",
   "execution_count": 4,
   "metadata": {},
   "outputs": [
    {
     "name": "stdout",
     "output_type": "stream",
     "text": [
      "Enter the marks: 34\n",
      "E\n"
     ]
    }
   ],
   "source": [
    "# for getting grade corresponding to the mark that we given\n",
    "mark=float(input(\"Enter the marks: \"))\n",
    "if mark<25:\n",
    "    print('F')\n",
    "elif mark>25 and mark<45:\n",
    "    print('E')\n",
    "elif mark>=45 and mark<50:\n",
    "    print('D')\n",
    "elif mark>=50 and mark<60:\n",
    "    print('C')\n",
    "elif mark>=60 and mark<80:\n",
    "    print('B')\n",
    "else:\n",
    "    print('A')  "
   ]
  },
  {
   "cell_type": "code",
   "execution_count": 21,
   "metadata": {},
   "outputs": [
    {
     "name": "stdout",
     "output_type": "stream",
     "text": [
      "enter quantity\n",
      "3\n",
      " no discount,total cost is 300\n"
     ]
    }
   ],
   "source": [
    "# if a guy getting discount or the same price \n",
    "quantity=int(input(\"enter quantity\\n\"))\n",
    "if quantity*100>1000:\n",
    "    print(\"total cost is\",((quantity*100)-(.1*quantity*100)))\n",
    "else:\n",
    "    print(' no discount,total cost is',(quantity*100))\n",
    "    "
   ]
  },
  {
   "cell_type": "code",
   "execution_count": 6,
   "metadata": {},
   "outputs": [
    {
     "name": "stdout",
     "output_type": "stream",
     "text": [
      "enter the salary\n",
      "12000\n",
      "enter the year of service\n",
      "6\n",
      "bonus amount is 600.0\n"
     ]
    }
   ],
   "source": [
    "# bonus is getting or not based on the year of experience\n",
    "salary=int(input(\"enter the salary\\n\"))\n",
    "yr_serv=float(input(\"enter the year of service\\n\"))\n",
    "if yr_serv>5:\n",
    "    print(\"bonus amount is\",(.05*salary))\n",
    "else:\n",
    "    print(\"you are not elgible for bonus\\n\")\n"
   ]
  },
  {
   "cell_type": "code",
   "execution_count": 7,
   "metadata": {},
   "outputs": [
    {
     "name": "stdout",
     "output_type": "stream",
     "text": [
      "enter the age\n",
      "23\n",
      "enter the age\n",
      "14\n",
      "enter the age\n",
      "45\n",
      "thirdone is the oldest\n"
     ]
    }
   ],
   "source": [
    "# checking among three persons age who is the oldest one\n",
    "firstone=int(input('enter the age\\n'))\n",
    "secondone=int(input('enter the age\\n'))\n",
    "thirdone=int(input('enter the age\\n'))\n",
    "if firstone>=secondone and firstone>=thirdone:\n",
    "             print(\"first one is oldest\")\n",
    "elif secondone>=firstone and secondone>=thirdone:\n",
    "             print(\"secondone is the oldest\")\n",
    "elif thirdone>=secondone and thirdone>=firstone:\n",
    "             print(\"thirdone is the oldest\")\n",
    "else:\n",
    "             print(\" all of them are in same age\")"
   ]
  },
  {
   "cell_type": "code",
   "execution_count": 8,
   "metadata": {},
   "outputs": [
    {
     "name": "stdout",
     "output_type": "stream",
     "text": [
      "enter any number\n",
      "-24\n",
      "absolute value is 24\n"
     ]
    }
   ],
   "source": [
    "# finding the absolute value of the given value\n",
    "num=int(input(\"enter any number\\n\"))\n",
    "if num<0:\n",
    "    print(\"absolute value is\",(num*-1))\n",
    "else:\n",
    "    print(\"absolute value is\",num)"
   ]
  },
  {
   "cell_type": "code",
   "execution_count": 16,
   "metadata": {},
   "outputs": [
    {
     "name": "stdout",
     "output_type": "stream",
     "text": [
      "enter no. of classes held\n",
      "45\n",
      "enter no. of classes attended\n",
      "10\n",
      "attendence of the student is 22.22222222222222\n",
      "student is not allowed to sit in the exam\n"
     ]
    }
   ],
   "source": [
    "# based on attendence checking where a student can allowed or not to sit in the exam\n",
    "h_class=int(input(\"enter no. of classes held\\n\"))\n",
    "a_class=float(input(\"enter no. of classes attended\\n\"))\n",
    "p_attend=((a_class/h_class)*100)\n",
    "print(\"attendence of the student is\",(p_attend))\n",
    "if p_attend >=75:\n",
    "              print(\" student is allowed to sit in the exam\")\n",
    "else:\n",
    "              print(\"student is not allowed to sit in the exam\")\n",
    "        "
   ]
  },
  {
   "cell_type": "code",
   "execution_count": 17,
   "metadata": {},
   "outputs": [
    {
     "name": "stdout",
     "output_type": "stream",
     "text": [
      "student is not allowed to sit in the exam\n"
     ]
    }
   ],
   "source": [
    "\n",
    "med_caus=str(input)\n",
    "if p_attend>75:\n",
    "    print(\"student is allowed to sit in the exam\")\n",
    "else:\n",
    " if med_caus==\"y\":\n",
    "    print(\"student is allowed to sit in the exam\")\n",
    " else:\n",
    "    print (\"student is not allowed to sit in the exam\")"
   ]
  },
  {
   "cell_type": "code",
   "execution_count": 19,
   "metadata": {},
   "outputs": [
    {
     "name": "stdout",
     "output_type": "stream",
     "text": [
      "enter the year\n",
      "2000\n",
      "the year is a leap year\n"
     ]
    }
   ],
   "source": [
    "# checking an year is leap year or not\n",
    "year=int(input(\"enter the year\\n\"))\n",
    "if (year%4)==0:\n",
    "    if (year%100)==0:\n",
    "        if (year%400)==0:\n",
    "            print(\"the year is a leap year\")\n",
    "        else:\n",
    "            print(\"the year is not a leap year\")\n",
    "    else:\n",
    "        print(\"the year is not leap year\")\n",
    "else:\n",
    "    print(\"the year is not a leap year\")"
   ]
  },
  {
   "cell_type": "code",
   "execution_count": null,
   "metadata": {},
   "outputs": [],
   "source": []
  }
 ],
 "metadata": {
  "kernelspec": {
   "display_name": "Python 3",
   "language": "python",
   "name": "python3"
  },
  "language_info": {
   "codemirror_mode": {
    "name": "ipython",
    "version": 3
   },
   "file_extension": ".py",
   "mimetype": "text/x-python",
   "name": "python",
   "nbconvert_exporter": "python",
   "pygments_lexer": "ipython3",
   "version": "3.8.5"
  }
 },
 "nbformat": 4,
 "nbformat_minor": 4
}
